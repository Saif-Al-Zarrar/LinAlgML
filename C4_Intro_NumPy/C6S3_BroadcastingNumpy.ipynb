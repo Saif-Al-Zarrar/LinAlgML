{
 "cells": [
  {
   "cell_type": "code",
   "execution_count": 1,
   "metadata": {},
   "outputs": [],
   "source": [
    "# Basics of Linear Algebra for Machine Learning\n",
    "## NumPy Array Broadcasting\n",
    "## Broadcasting in NumPy\n",
    "## Ch6, Page 36"
   ]
  },
  {
   "cell_type": "code",
   "execution_count": null,
   "metadata": {},
   "outputs": [],
   "source": [
    "## Broadcasting is limited but still useful when arithmatic operations on 2 array dims are equal, or one has dim size 1"
   ]
  },
  {
   "cell_type": "code",
   "execution_count": 2,
   "metadata": {},
   "outputs": [
    {
     "name": "stdout",
     "output_type": "stream",
     "text": [
      "[1 2 3 4 5]\n",
      "2\n",
      "[3 4 5 6 7]\n"
     ]
    }
   ],
   "source": [
    "# broadcast scalar to 1d array\n",
    "from numpy import array\n",
    "# define array\n",
    "a = array([1, 2, 3, 4, 5])\n",
    "print(a)\n",
    "# define scalar\n",
    "b = 2\n",
    "print(b)\n",
    "# broadcast\n",
    "c = a + b\n",
    "print(c)"
   ]
  },
  {
   "cell_type": "code",
   "execution_count": 3,
   "metadata": {},
   "outputs": [
    {
     "name": "stdout",
     "output_type": "stream",
     "text": [
      "[[1 2 3]\n",
      " [4 5 6]\n",
      " [7 8 9]]\n",
      "2\n",
      "[[ 3  4  5]\n",
      " [ 6  7  8]\n",
      " [ 9 10 11]]\n"
     ]
    }
   ],
   "source": [
    "# broadcast scalar to 2d array\n",
    "A = array([[1, 2, 3],\n",
    "           [4, 5, 6],\n",
    "           [7, 8, 9]\n",
    "          ])\n",
    "print(A)\n",
    "#define scalar\n",
    "b = 2\n",
    "print(b)\n",
    "# broadcast\n",
    "C = A + b\n",
    "print(C)"
   ]
  },
  {
   "cell_type": "code",
   "execution_count": 8,
   "metadata": {},
   "outputs": [
    {
     "name": "stdout",
     "output_type": "stream",
     "text": [
      "[[1 2 3]\n",
      " [1 1 1]]\n",
      "[1 1 1]\n",
      "[[2 3 4]\n",
      " [2 2 2]]\n"
     ]
    }
   ],
   "source": [
    "# broadcast 1d to 2d array\n",
    "A11 = array([[1, 2, 3],\n",
    "            [1, 1, 1]\n",
    "            ])\n",
    "print(A11)\n",
    "# define 1d array\n",
    "b1 = array([1, 1, 1])\n",
    "print(b1)\n",
    "# broadcast\n",
    "C = A11 + b1\n",
    "print(C)"
   ]
  },
  {
   "cell_type": "code",
   "execution_count": null,
   "metadata": {},
   "outputs": [],
   "source": []
  }
 ],
 "metadata": {
  "kernelspec": {
   "display_name": "Python 3",
   "language": "python",
   "name": "python3"
  },
  "language_info": {
   "codemirror_mode": {
    "name": "ipython",
    "version": 3
   },
   "file_extension": ".py",
   "mimetype": "text/x-python",
   "name": "python",
   "nbconvert_exporter": "python",
   "pygments_lexer": "ipython3",
   "version": "3.6.8"
  }
 },
 "nbformat": 4,
 "nbformat_minor": 2
}
