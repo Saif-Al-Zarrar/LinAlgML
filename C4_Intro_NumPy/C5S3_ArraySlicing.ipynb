{
 "cells": [
  {
   "cell_type": "code",
   "execution_count": null,
   "metadata": {},
   "outputs": [],
   "source": [
    "# Basics of Linear Algebra for Machine Learning\n",
    "## Index, Slice and Reshape NumPy Arrays\n",
    "## Array Slicing\n",
    "## Ch5, Page 27"
   ]
  },
  {
   "cell_type": "code",
   "execution_count": 14,
   "metadata": {},
   "outputs": [
    {
     "name": "stdout",
     "output_type": "stream",
     "text": [
      "[1 2 3 4 5]\n",
      "[1 2 3]\n",
      "[3 4 5]\n",
      "[4 5]\n"
     ]
    }
   ],
   "source": [
    "# slice a 1 dim array\n",
    "from numpy import array\n",
    "# define array\n",
    "data = array([1, 2, 3, 4, 5])\n",
    "# show all\n",
    "print(data[:])\n",
    "# show 0th element to 3 over wrt 0th\n",
    "print(data[0:3])\n",
    "# show 2th element to 3 over wrt 0th\n",
    "print(data[2:5])\n",
    "# show last 2 elements\n",
    "print(data[-2:])"
   ]
  },
  {
   "cell_type": "code",
   "execution_count": 23,
   "metadata": {},
   "outputs": [
    {
     "name": "stdout",
     "output_type": "stream",
     "text": [
      "[77 88 99]\n",
      "[33 66 99]\n",
      "[99]\n",
      "[77 88]\n",
      "[88]\n",
      "[77 88]\n"
     ]
    }
   ],
   "source": [
    "# 2 dim slicing\n",
    "data11 = array([[11, 22, 33],\n",
    "                [44, 55, 66],\n",
    "                [77, 88, 99]\n",
    "               ])\n",
    "# seperate data\n",
    "x, y = data11[2,:], data11[:,2]\n",
    "print(x)\n",
    "print(y)\n",
    "# seperate more data\n",
    "x1, y1 = data11[2,-1:], data11[2,:-1]\n",
    "print(x1)\n",
    "print(y1)\n",
    "# seperate even more data\n",
    "x2, y2 = data11[2,1:2], data11[2,0:2]\n",
    "print(x2)\n",
    "print(y2)"
   ]
  },
  {
   "cell_type": "code",
   "execution_count": 32,
   "metadata": {},
   "outputs": [
    {
     "name": "stdout",
     "output_type": "stream",
     "text": [
      "[[111 222 333]\n",
      " [444 555 666]]\n",
      "[[777 888 999]\n",
      " [101 102 104]]\n",
      "[[111 222]\n",
      " [444 555]\n",
      " [777 888]\n",
      " [101 102]]\n",
      "[[111]\n",
      " [444]\n",
      " [777]\n",
      " [101]]\n"
     ]
    }
   ],
   "source": [
    "# train and test splitting data\n",
    "data21 = array([[111, 222, 333],\n",
    "                [444, 555, 666],\n",
    "                [777, 888, 999],\n",
    "                [101, 102, 104]\n",
    "               ])\n",
    "# seperate data\n",
    "split = 2\n",
    "train, test = data21[:split,:], data21[split:,:]\n",
    "print(train)\n",
    "print(test)\n",
    "# seperate more data\n",
    "test1, train1 = data21[:,0:1], data21[:,:2]\n",
    "print(train1)\n",
    "print(test1)\n"
   ]
  }
 ],
 "metadata": {
  "kernelspec": {
   "display_name": "Python 3",
   "language": "python",
   "name": "python3"
  },
  "language_info": {
   "codemirror_mode": {
    "name": "ipython",
    "version": 3
   },
   "file_extension": ".py",
   "mimetype": "text/x-python",
   "name": "python",
   "nbconvert_exporter": "python",
   "pygments_lexer": "ipython3",
   "version": "3.6.8"
  }
 },
 "nbformat": 4,
 "nbformat_minor": 2
}
