{
 "cells": [
  {
   "cell_type": "code",
   "execution_count": 5,
   "metadata": {
    "pycharm": {
     "is_executing": false
    }
   },
   "outputs": [],
   "source": [
    "# Basics of Linear Algebra for Machine Learning\n",
    "## Matrix Decomposition\n",
    "## QR Decomposition\n",
    "## Ch14, Page 111"
   ]
  },
  {
   "cell_type": "code",
   "execution_count": 5,
   "metadata": {
    "pycharm": {
     "is_executing": false
    }
   },
   "outputs": [
    {
     "name": "stdout",
     "output_type": "stream",
     "text": [
      "[[1 2]\n",
      " [4 5]\n",
      " [7 8]]\n",
      "[[-0.12309149  0.90453403  0.40824829]\n",
      " [-0.49236596  0.30151134 -0.81649658]\n",
      " [-0.86164044 -0.30151134  0.40824829]]\n",
      "[[-8.1240384  -9.6011363 ]\n",
      " [ 0.          0.90453403]\n",
      " [ 0.          0.        ]]\n",
      "(3, 2)\n",
      "(3, 3)\n",
      "(3, 2)\n",
      "[[1. 2.]\n",
      " [4. 5.]\n",
      " [7. 8.]]\n",
      "(3, 2)\n"
     ]
    }
   ],
   "source": [
    "from numpy import array\n",
    "from scipy.linalg import qr\n",
    "# define square matrix\n",
    "A = array([\n",
    "    [1,2],\n",
    "    [4,5],\n",
    "    [7,8]\n",
    "])\n",
    "print(A)\n",
    "# factorize\n",
    "Q, R = qr(A, mode='full')\n",
    "print(Q)\n",
    "print(R)\n",
    "print(A.shape)\n",
    "print(Q.shape)\n",
    "print(R.shape)\n",
    "# reconstruct\n",
    "B = Q.dot(R)\n",
    "print(B)\n",
    "print(B.shape)"
   ]
  }
 ],
 "metadata": {
  "kernelspec": {
   "display_name": "Python 3",
   "language": "python",
   "name": "python3"
  },
  "language_info": {
   "codemirror_mode": {
    "name": "ipython",
    "version": 3
   },
   "file_extension": ".py",
   "mimetype": "text/x-python",
   "name": "python",
   "nbconvert_exporter": "python",
   "pygments_lexer": "ipython3",
   "version": "3.6.8"
  }
 },
 "nbformat": 4,
 "nbformat_minor": 2
}
