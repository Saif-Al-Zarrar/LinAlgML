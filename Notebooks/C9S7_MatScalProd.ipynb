{
 "cells": [
  {
   "cell_type": "code",
   "execution_count": 1,
   "metadata": {},
   "outputs": [],
   "source": [
    "# Basics of Linear Algebra for Machine Learning\n",
    "## Matricies and Matrix Arithmetic\n",
    "## Matrix-Scalar Multiplication\n",
    "## Ch9, Page 67"
   ]
  },
  {
   "cell_type": "code",
   "execution_count": 4,
   "metadata": {},
   "outputs": [
    {
     "name": "stdout",
     "output_type": "stream",
     "text": [
      "[[1 2]\n",
      " [3 4]\n",
      " [5 6]]\n",
      "0.5\n",
      "[[0.5 1. ]\n",
      " [1.5 2. ]\n",
      " [2.5 3. ]]\n"
     ]
    }
   ],
   "source": [
    "# matrix-scalar multiplication\n",
    "from numpy import array\n",
    "# define matrix\n",
    "A = array([\n",
    "    [1, 2],\n",
    "    [3, 4],\n",
    "    [5, 6]\n",
    "])\n",
    "print(A)\n",
    "#define scalar\n",
    "b = 0.5\n",
    "print(b)\n",
    "# multiply\n",
    "C = A * b\n",
    "print(C)\n"
   ]
  }
 ],
 "metadata": {
  "kernelspec": {
   "display_name": "Python 3",
   "language": "python",
   "name": "python3"
  },
  "language_info": {
   "codemirror_mode": {
    "name": "ipython",
    "version": 3
   },
   "file_extension": ".py",
   "mimetype": "text/x-python",
   "name": "python",
   "nbconvert_exporter": "python",
   "pygments_lexer": "ipython3",
   "version": "3.6.8"
  }
 },
 "nbformat": 4,
 "nbformat_minor": 2
}
