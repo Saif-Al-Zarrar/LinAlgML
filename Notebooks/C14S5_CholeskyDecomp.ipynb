{
 "cells": [
  {
   "cell_type": "code",
   "execution_count": 5,
   "metadata": {
    "pycharm": {
     "is_executing": false
    }
   },
   "outputs": [],
   "source": [
    "# Basics of Linear Algebra for Machine Learning\n",
    "## Matrix Decomposition\n",
    "## Cholesky Decomposition\n",
    "## Ch14, Page 112"
   ]
  },
  {
   "cell_type": "code",
   "execution_count": 14,
   "metadata": {
    "pycharm": {
     "is_executing": false
    }
   },
   "outputs": [
    {
     "name": "stdout",
     "output_type": "stream",
     "text": [
      "[[2 1 1]\n",
      " [1 2 1]\n",
      " [1 1 2]]\n",
      "[[1.41421356 0.         0.        ]\n",
      " [0.70710678 1.22474487 0.        ]\n",
      " [0.70710678 0.40824829 1.15470054]]\n",
      "(3, 3)\n",
      "(3, 3)\n",
      "[[2. 1. 1.]\n",
      " [1. 2. 1.]\n",
      " [1. 1. 2.]]\n",
      "(3, 3)\n"
     ]
    }
   ],
   "source": [
    "from numpy import array\n",
    "from scipy.linalg import cholesky\n",
    "# define square matrix\n",
    "A = array([\n",
    "    [2,1,1],\n",
    "    [1,2,1],\n",
    "    [1,1,2]\n",
    "])\n",
    "print(A)\n",
    "# factorize lower\n",
    "L = cholesky(A, lower=True)\n",
    "print(L)\n",
    "print(A.shape)\n",
    "print(L.shape)\n",
    "# reconstruct\n",
    "B = L.dot(L.T)\n",
    "print(B)\n",
    "print(B.shape)"
   ]
  },
  {
   "cell_type": "code",
   "execution_count": 16,
   "metadata": {},
   "outputs": [
    {
     "name": "stdout",
     "output_type": "stream",
     "text": [
      "[[1.41421356 0.70710678 0.70710678]\n",
      " [0.         1.22474487 0.40824829]\n",
      " [0.         0.         1.15470054]]\n",
      "(3, 3)\n",
      "(3, 3)\n",
      "[[2. 1. 1.]\n",
      " [1. 2. 1.]\n",
      " [1. 1. 2.]]\n",
      "(3, 3)\n"
     ]
    }
   ],
   "source": [
    "# factorize upper\n",
    "U = cholesky(A, lower=False)\n",
    "print(U)\n",
    "print(A.shape)\n",
    "print(U.shape)\n",
    "B = L.dot(L.T)\n",
    "print(B)\n",
    "print(B.shape)"
   ]
  }
 ],
 "metadata": {
  "kernelspec": {
   "display_name": "Python 3",
   "language": "python",
   "name": "python3"
  },
  "language_info": {
   "codemirror_mode": {
    "name": "ipython",
    "version": 3
   },
   "file_extension": ".py",
   "mimetype": "text/x-python",
   "name": "python",
   "nbconvert_exporter": "python",
   "pygments_lexer": "ipython3",
   "version": "3.6.8"
  }
 },
 "nbformat": 4,
 "nbformat_minor": 2
}
