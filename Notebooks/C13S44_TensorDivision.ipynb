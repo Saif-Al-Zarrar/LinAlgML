{
 "cells": [
  {
   "cell_type": "code",
   "execution_count": 1,
   "metadata": {
    "pycharm": {
     "is_executing": false
    }
   },
   "outputs": [],
   "source": [
    "# Basics of Linear Algebra for Machine Learning\n",
    "## Tensors in Python\n",
    "## Tensors Division\n",
    "## Ch13, Page 103"
   ]
  },
  {
   "cell_type": "code",
   "execution_count": 2,
   "metadata": {
    "pycharm": {
     "is_executing": false
    }
   },
   "outputs": [
    {
     "name": "stdout",
     "output_type": "stream",
     "text": [
      "(3, 3, 3)\n",
      "(3, 3, 3)\n",
      "[[[ 1  2  3]\n",
      "  [ 4  5  6]\n",
      "  [ 7  8  9]]\n",
      "\n",
      " [[10 11 12]\n",
      "  [13 14 15]\n",
      "  [16 17 18]]\n",
      "\n",
      " [[19 20 21]\n",
      "  [22 23 24]\n",
      "  [25 26 27]]]\n",
      "[[[1 1 1]\n",
      "  [1 1 1]\n",
      "  [1 1 1]]\n",
      "\n",
      " [[2 2 2]\n",
      "  [2 2 2]\n",
      "  [2 2 2]]\n",
      "\n",
      " [[3 3 3]\n",
      "  [3 3 3]\n",
      "  [3 3 3]]]\n",
      "[[[1.         2.         3.        ]\n",
      "  [4.         5.         6.        ]\n",
      "  [7.         8.         9.        ]]\n",
      "\n",
      " [[5.         5.5        6.        ]\n",
      "  [6.5        7.         7.5       ]\n",
      "  [8.         8.5        9.        ]]\n",
      "\n",
      " [[6.33333333 6.66666667 7.        ]\n",
      "  [7.33333333 7.66666667 8.        ]\n",
      "  [8.33333333 8.66666667 9.        ]]]\n"
     ]
    }
   ],
   "source": [
    "from numpy import array\n",
    "# define 1st tensor\n",
    "T = array([\n",
    "    [[1,2,3], [4,5,6], [7,8,9]],\n",
    "    [[10,11,12], [13,14,15], [16,17,18]],\n",
    "    [[19,20,21], [22,23,24], [25,26,27]]\n",
    "])\n",
    "# define 2nd tensor\n",
    "T2 = array([\n",
    "    [[1,1,1], [1,1,1], [1,1,1]],\n",
    "    [[2,2,2], [2,2,2], [2,2,2]],\n",
    "    [[3,3,3], [3,3,3], [3,3,3]]\n",
    "])\n",
    "print(T.shape)\n",
    "print(T2.shape)\n",
    "print(T)\n",
    "print(T2)\n",
    "T3 = T / T2\n",
    "print(T3)"
   ]
  }
 ],
 "metadata": {
  "kernelspec": {
   "display_name": "Python 3",
   "language": "python",
   "name": "python3"
  },
  "language_info": {
   "codemirror_mode": {
    "name": "ipython",
    "version": 3
   },
   "file_extension": ".py",
   "mimetype": "text/x-python",
   "name": "python",
   "nbconvert_exporter": "python",
   "pygments_lexer": "ipython3",
   "version": "3.6.8"
  }
 },
 "nbformat": 4,
 "nbformat_minor": 2
}
