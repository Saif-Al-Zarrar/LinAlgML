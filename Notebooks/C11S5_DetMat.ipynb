{
 "cells": [
  {
   "cell_type": "code",
   "execution_count": 1,
   "metadata": {},
   "outputs": [],
   "source": [
    "# Basics of Linear Algebra for Machine Learning\n",
    "## Matrix Operations\n",
    "## Matrix Determinant\n",
    "## Ch11, Page 84"
   ]
  },
  {
   "cell_type": "code",
   "execution_count": 5,
   "metadata": {},
   "outputs": [
    {
     "name": "stdout",
     "output_type": "stream",
     "text": [
      "[[1 2 3]\n",
      " [4 5 6]\n",
      " [7 8 9]]\n",
      "[[2 1 1]\n",
      " [1 3 1]\n",
      " [1 1 1]]\n",
      "0.0\n",
      "2.0000000000000004\n"
     ]
    }
   ],
   "source": [
    "from numpy import array\n",
    "from numpy.linalg import det\n",
    "# define matrix\n",
    "A = array([\n",
    "    [1, 2, 3],\n",
    "    [4, 5, 6],\n",
    "    [7, 8, 9]\n",
    "])\n",
    "A2 = array([\n",
    "    [2, 1, 1],\n",
    "    [1, 3, 1],\n",
    "    [1, 1, 1]\n",
    "])\n",
    "print(A)\n",
    "print(A2)\n",
    "# calc determinant, ie not invertable\n",
    "B = det(A)\n",
    "print(B)\n",
    "\n",
    "# calc determinant, ie invertable\n",
    "B2 = det(A2)\n",
    "print(B2)\n"
   ]
  }
 ],
 "metadata": {
  "kernelspec": {
   "display_name": "Python 3",
   "language": "python",
   "name": "python3"
  },
  "language_info": {
   "codemirror_mode": {
    "name": "ipython",
    "version": 3
   },
   "file_extension": ".py",
   "mimetype": "text/x-python",
   "name": "python",
   "nbconvert_exporter": "python",
   "pygments_lexer": "ipython3",
   "version": "3.6.8"
  }
 },
 "nbformat": 4,
 "nbformat_minor": 2
}
