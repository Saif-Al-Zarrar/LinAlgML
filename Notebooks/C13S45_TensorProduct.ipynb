{
 "cells": [
  {
   "cell_type": "code",
   "execution_count": 1,
   "metadata": {
    "pycharm": {
     "is_executing": false
    }
   },
   "outputs": [],
   "source": [
    "# Basics of Linear Algebra for Machine Learning\n",
    "## Tensors in Python\n",
    "## Tensors  Product\n",
    "## Ch13, Page 104"
   ]
  },
  {
   "cell_type": "code",
   "execution_count": 9,
   "metadata": {
    "pycharm": {
     "is_executing": false
    }
   },
   "outputs": [
    {
     "name": "stdout",
     "output_type": "stream",
     "text": [
      "(2, 2)\n",
      "(2, 2)\n",
      "[[1 2]\n",
      " [1 2]]\n",
      "[[3 4]\n",
      " [3 4]]\n",
      "[[[[3 4]\n",
      "   [3 4]]\n",
      "\n",
      "  [[6 8]\n",
      "   [6 8]]]\n",
      "\n",
      "\n",
      " [[[3 4]\n",
      "   [3 4]]\n",
      "\n",
      "  [[6 8]\n",
      "   [6 8]]]]\n",
      "(2, 2, 2, 2)\n"
     ]
    }
   ],
   "source": [
    "from numpy import array\n",
    "from numpy import tensordot\n",
    "# define 1st tensor\n",
    "T = array([[1,2], [1,2]])\n",
    "# define 2nd tensor\n",
    "T2 = array([[3,4], [3,4]])\n",
    "print(T.shape)\n",
    "print(T2.shape)\n",
    "print(T)\n",
    "print(T2)\n",
    "T3 = tensordot(T, T2, axes=0)\n",
    "print(T3)\n",
    "print(T3.shape)"
   ]
  }
 ],
 "metadata": {
  "kernelspec": {
   "display_name": "Python 3",
   "language": "python",
   "name": "python3"
  },
  "language_info": {
   "codemirror_mode": {
    "name": "ipython",
    "version": 3
   },
   "file_extension": ".py",
   "mimetype": "text/x-python",
   "name": "python",
   "nbconvert_exporter": "python",
   "pygments_lexer": "ipython3",
   "version": "3.6.8"
  }
 },
 "nbformat": 4,
 "nbformat_minor": 2
}
