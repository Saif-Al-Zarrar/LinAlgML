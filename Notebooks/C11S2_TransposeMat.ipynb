{
 "cells": [
  {
   "cell_type": "code",
   "execution_count": 2,
   "metadata": {},
   "outputs": [],
   "source": [
    "# Basics of Linear Algebra for Machine Learning\n",
    "## Matrix Operations\n",
    "## Matrix Transpose\n",
    "## Ch11, Page 80"
   ]
  },
  {
   "cell_type": "code",
   "execution_count": 1,
   "metadata": {},
   "outputs": [
    {
     "name": "stdout",
     "output_type": "stream",
     "text": [
      "[[1 1]\n",
      " [0 1]\n",
      " [0 0]]\n",
      "[[1 0 0]\n",
      " [1 1 0]]\n"
     ]
    }
   ],
   "source": [
    "from numpy import array\n",
    "# define matrix\n",
    "A = array([\n",
    "    [1, 1],\n",
    "    [0, 1],\n",
    "    [0, 0]\n",
    "])\n",
    "print(A)\n",
    "# transposed\n",
    "At = A.T\n",
    "print(At)"
   ]
  }
 ],
 "metadata": {
  "kernelspec": {
   "display_name": "Python 3",
   "language": "python",
   "name": "python3"
  },
  "language_info": {
   "codemirror_mode": {
    "name": "ipython",
    "version": 3
   },
   "file_extension": ".py",
   "mimetype": "text/x-python",
   "name": "python",
   "nbconvert_exporter": "python",
   "pygments_lexer": "ipython3",
   "version": "3.6.8"
  }
 },
 "nbformat": 4,
 "nbformat_minor": 2
}
