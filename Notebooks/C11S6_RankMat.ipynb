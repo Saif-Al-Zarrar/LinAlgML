{
 "cells": [
  {
   "cell_type": "code",
   "execution_count": 1,
   "metadata": {},
   "outputs": [],
   "source": [
    "# Basics of Linear Algebra for Machine Learning\n",
    "## Matrix Operations\n",
    "## Matrix Rank\n",
    "## Ch11, Page 85"
   ]
  },
  {
   "cell_type": "code",
   "execution_count": 12,
   "metadata": {},
   "outputs": [
    {
     "name": "stdout",
     "output_type": "stream",
     "text": [
      "1\n",
      "[[1 2 3]]\n",
      "[[0 0 0]]\n",
      "[[1 2]\n",
      " [3 4]]\n",
      "[[1 3]\n",
      " [1 3]]\n",
      "1\n",
      "1\n",
      "0\n",
      "2\n",
      "1\n"
     ]
    }
   ],
   "source": [
    "from numpy import array\n",
    "from numpy.linalg import matrix_rank\n",
    "# define scalar\n",
    "S0 = 1\n",
    "# define vector\n",
    "V1 = array([\n",
    "    [1, 2, 3]\n",
    "])\n",
    "V0 = array([\n",
    "    [0, 0, 0]\n",
    "])\n",
    "# define matrix\n",
    "A1 = array([\n",
    "    [1, 2],\n",
    "    [3, 4]\n",
    "])\n",
    "A2 = array([\n",
    "    [1, 3],\n",
    "    [1, 3]\n",
    "])\n",
    "print(S0)\n",
    "print(V1)\n",
    "print(V0)\n",
    "print(A1)\n",
    "print(A2)\n",
    "# rank \n",
    "s0r = matrix_rank(S0)\n",
    "print(s0r)\n",
    "v1r = matrix_rank(V1)\n",
    "print(v1r)\n",
    "v0r = matrix_rank(V0)\n",
    "print(v0r)\n",
    "a1r = matrix_rank(A1)\n",
    "print(a1r)\n",
    "a2r = matrix_rank(A2)\n",
    "print(a2r)\n"
   ]
  }
 ],
 "metadata": {
  "kernelspec": {
   "display_name": "Python 3",
   "language": "python",
   "name": "python3"
  },
  "language_info": {
   "codemirror_mode": {
    "name": "ipython",
    "version": 3
   },
   "file_extension": ".py",
   "mimetype": "text/x-python",
   "name": "python",
   "nbconvert_exporter": "python",
   "pygments_lexer": "ipython3",
   "version": "3.6.8"
  }
 },
 "nbformat": 4,
 "nbformat_minor": 2
}
