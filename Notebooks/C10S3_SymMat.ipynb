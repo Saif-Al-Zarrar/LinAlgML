{
 "cells": [
  {
   "cell_type": "code",
   "execution_count": 1,
   "metadata": {},
   "outputs": [],
   "source": [
    "# Basics of Linear Algebra for Machine Learning\n",
    "## Types of Matrices\n",
    "## Symmetric Matrix\n",
    "## Ch10, Page 72"
   ]
  },
  {
   "cell_type": "code",
   "execution_count": 2,
   "metadata": {},
   "outputs": [
    {
     "name": "stdout",
     "output_type": "stream",
     "text": [
      "[[1 2 3]\n",
      " [2 1 2]\n",
      " [3 2 1]]\n",
      "[[1 2 3]\n",
      " [2 1 2]\n",
      " [3 2 1]]\n"
     ]
    }
   ],
   "source": [
    "from numpy import array\n",
    "# define square symmetric 3x3  matrix\n",
    "A = array([\n",
    "    [1, 2, 3],\n",
    "    [2, 1, 2],\n",
    "    [3, 2, 1]\n",
    "])\n",
    "print(A)\n",
    "\n",
    "# transpose A\n",
    "Aprime = A.T\n",
    "print(Aprime)"
   ]
  }
 ],
 "metadata": {
  "kernelspec": {
   "display_name": "Python 3",
   "language": "python",
   "name": "python3"
  },
  "language_info": {
   "codemirror_mode": {
    "name": "ipython",
    "version": 3
   },
   "file_extension": ".py",
   "mimetype": "text/x-python",
   "name": "python",
   "nbconvert_exporter": "python",
   "pygments_lexer": "ipython3",
   "version": "3.6.8"
  }
 },
 "nbformat": 4,
 "nbformat_minor": 2
}
