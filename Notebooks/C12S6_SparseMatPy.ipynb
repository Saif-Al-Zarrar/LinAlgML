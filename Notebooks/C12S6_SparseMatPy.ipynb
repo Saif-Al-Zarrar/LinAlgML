{
 "cells": [
  {
   "cell_type": "code",
   "execution_count": 13,
   "metadata": {},
   "outputs": [],
   "source": [
    "# Basics of Linear Algebra for Machine Learning\n",
    "## Sparse Matricies\n",
    "## Sparse Matricies in Python\n",
    "## Ch12, Page 94"
   ]
  },
  {
   "cell_type": "code",
   "execution_count": 5,
   "metadata": {},
   "outputs": [
    {
     "name": "stdout",
     "output_type": "stream",
     "text": [
      "[[1 0 0 1 0 0]\n",
      " [0 0 2 0 0 1]\n",
      " [0 0 0 2 0 0]]\n",
      "  (0, 0)\t1\n",
      "  (0, 3)\t1\n",
      "  (1, 2)\t2\n",
      "  (1, 5)\t1\n",
      "  (2, 3)\t2\n",
      "[[1 0 0 1 0 0]\n",
      " [0 0 2 0 0 1]\n",
      " [0 0 0 2 0 0]]\n"
     ]
    }
   ],
   "source": [
    "from numpy import array\n",
    "from scipy.sparse import csr_matrix\n",
    "# define dense matrix\n",
    "A = array([\n",
    "    [1, 0, 0, 1, 0, 0],\n",
    "    [0, 0, 2, 0, 0, 1],\n",
    "    [0, 0, 0, 2, 0, 0]\n",
    "])\n",
    "print(A)\n",
    "# convert to sparse using csr method\n",
    "S = csr_matrix(A)\n",
    "print(S)\n",
    "# reconstruct to dense\n",
    "B = S.todense()\n",
    "print(B)"
   ]
  }
 ],
 "metadata": {
  "kernelspec": {
   "display_name": "Python 3",
   "language": "python",
   "name": "python3"
  },
  "language_info": {
   "codemirror_mode": {
    "name": "ipython",
    "version": 3
   },
   "file_extension": ".py",
   "mimetype": "text/x-python",
   "name": "python",
   "nbconvert_exporter": "python",
   "pygments_lexer": "ipython3",
   "version": "3.6.8"
  }
 },
 "nbformat": 4,
 "nbformat_minor": 2
}
