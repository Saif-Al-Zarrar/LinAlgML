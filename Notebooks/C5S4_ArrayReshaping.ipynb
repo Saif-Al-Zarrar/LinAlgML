{
 "cells": [
  {
   "cell_type": "code",
   "execution_count": null,
   "metadata": {},
   "outputs": [],
   "source": [
    "# Basics of Linear Algebra for Machine Learning\n",
    "## Index, Slice and Reshape NumPy Arrays\n",
    "## Array Reshaping\n",
    "## Ch5, Page 30"
   ]
  },
  {
   "cell_type": "code",
   "execution_count": 1,
   "metadata": {},
   "outputs": [
    {
     "name": "stdout",
     "output_type": "stream",
     "text": [
      "(5,)\n"
     ]
    }
   ],
   "source": [
    "# shape of 1 dim array\n",
    "from numpy import array\n",
    "# define array\n",
    "data = array([1, 2, 3, 4, 5])\n",
    "print(data.shape)"
   ]
  },
  {
   "cell_type": "code",
   "execution_count": 4,
   "metadata": {},
   "outputs": [
    {
     "name": "stdout",
     "output_type": "stream",
     "text": [
      "(3, 3)\n",
      "Rows: 3\n",
      "Columns: 3\n"
     ]
    }
   ],
   "source": [
    "# shape of 2 dim array\n",
    "data21 = array([[1, 2, 3],\n",
    "                [4, 5, 6],\n",
    "                [7, 8, 9]\n",
    "               ])\n",
    "print(data21.shape)\n",
    "print('Rows: %d' % data21.shape[0])\n",
    "print('Columns: %d' % data21.shape[1])"
   ]
  },
  {
   "cell_type": "code",
   "execution_count": 12,
   "metadata": {},
   "outputs": [
    {
     "name": "stdout",
     "output_type": "stream",
     "text": [
      "[[111 222 333]\n",
      " [444 555 666]\n",
      " [777 888 999]]\n",
      "[[111 222 333 444 555 666 777 888 999]]\n",
      "[[111]\n",
      " [222]\n",
      " [333]\n",
      " [444]\n",
      " [555]\n",
      " [666]\n",
      " [777]\n",
      " [888]\n",
      " [999]]\n",
      "(3, 3)\n",
      "(1, 9)\n",
      "(9, 1)\n"
     ]
    }
   ],
   "source": [
    "# reshape 1d to 2d\n",
    "data31 = array([[111, 222, 333],\n",
    "                [444, 555, 666],\n",
    "                [777, 888, 999]\n",
    "               ])\n",
    "data41 = data31.reshape(1,9)\n",
    "data51 = data31.reshape(9,1)\n",
    "print(data31)\n",
    "print(data41)\n",
    "print(data51)\n",
    "print(data31.shape)\n",
    "print(data41.shape)\n",
    "print(data51.shape)\n"
   ]
  },
  {
   "cell_type": "code",
   "execution_count": 13,
   "metadata": {},
   "outputs": [
    {
     "name": "stdout",
     "output_type": "stream",
     "text": [
      "[[[111]\n",
      "  [222]\n",
      "  [333]]\n",
      "\n",
      " [[444]\n",
      "  [555]\n",
      "  [666]]\n",
      "\n",
      " [[777]\n",
      "  [888]\n",
      "  [999]]]\n",
      "(3, 3, 1)\n"
     ]
    }
   ],
   "source": [
    "# reshape 2d to 3d vectors\n",
    "data61 = data31.reshape(data31.shape[0],data31.shape[1],1)\n",
    "print(data61)\n",
    "print(data61.shape)"
   ]
  }
 ],
 "metadata": {
  "kernelspec": {
   "display_name": "Python 3",
   "language": "python",
   "name": "python3"
  },
  "language_info": {
   "codemirror_mode": {
    "name": "ipython",
    "version": 3
   },
   "file_extension": ".py",
   "mimetype": "text/x-python",
   "name": "python",
   "nbconvert_exporter": "python",
   "pygments_lexer": "ipython3",
   "version": "3.6.8"
  }
 },
 "nbformat": 4,
 "nbformat_minor": 2
}
